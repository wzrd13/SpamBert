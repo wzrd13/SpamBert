{
  "nbformat": 4,
  "nbformat_minor": 0,
  "metadata": {
    "kernelspec": {
      "display_name": "Python 3",
      "language": "python",
      "name": "python3"
    },
    "language_info": {
      "codemirror_mode": {
        "name": "ipython",
        "version": 3
      },
      "file_extension": ".py",
      "mimetype": "text/x-python",
      "name": "python",
      "nbconvert_exporter": "python",
      "pygments_lexer": "ipython3",
      "version": "3.8.5"
    },
    "colab": {
      "name": "spam.ipynb",
      "provenance": [],
      "collapsed_sections": [],
      "toc_visible": true,
      "include_colab_link": true
    },
    "widgets": {
      "application/vnd.jupyter.widget-state+json": {
        "c70067f5310c4d7a902e565bd576d3ac": {
          "model_module": "@jupyter-widgets/controls",
          "model_name": "HBoxModel",
          "state": {
            "_view_name": "HBoxView",
            "_dom_classes": [],
            "_model_name": "HBoxModel",
            "_view_module": "@jupyter-widgets/controls",
            "_model_module_version": "1.5.0",
            "_view_count": null,
            "_view_module_version": "1.5.0",
            "box_style": "",
            "layout": "IPY_MODEL_d3bdd7d179514858ac2b143e8c0740cc",
            "_model_module": "@jupyter-widgets/controls",
            "children": [
              "IPY_MODEL_50dbb55f350340fb9a5db39d1cb31b83",
              "IPY_MODEL_f07433d0ea264349aad9c3301affc198"
            ]
          },
          "model_module_version": "1.5.0"
        },
        "d3bdd7d179514858ac2b143e8c0740cc": {
          "model_module": "@jupyter-widgets/base",
          "model_name": "LayoutModel",
          "state": {
            "_view_name": "LayoutView",
            "grid_template_rows": null,
            "right": null,
            "justify_content": null,
            "_view_module": "@jupyter-widgets/base",
            "overflow": null,
            "_model_module_version": "1.2.0",
            "_view_count": null,
            "flex_flow": null,
            "width": null,
            "min_width": null,
            "border": null,
            "align_items": null,
            "bottom": null,
            "_model_module": "@jupyter-widgets/base",
            "top": null,
            "grid_column": null,
            "overflow_y": null,
            "overflow_x": null,
            "grid_auto_flow": null,
            "grid_area": null,
            "grid_template_columns": null,
            "flex": null,
            "_model_name": "LayoutModel",
            "justify_items": null,
            "grid_row": null,
            "max_height": null,
            "align_content": null,
            "visibility": null,
            "align_self": null,
            "height": null,
            "min_height": null,
            "padding": null,
            "grid_auto_rows": null,
            "grid_gap": null,
            "max_width": null,
            "order": null,
            "_view_module_version": "1.2.0",
            "grid_template_areas": null,
            "object_position": null,
            "object_fit": null,
            "grid_auto_columns": null,
            "margin": null,
            "display": null,
            "left": null
          },
          "model_module_version": "1.2.0"
        },
        "50dbb55f350340fb9a5db39d1cb31b83": {
          "model_module": "@jupyter-widgets/controls",
          "model_name": "FloatProgressModel",
          "state": {
            "_view_name": "ProgressView",
            "style": "IPY_MODEL_864b8d2dfab7488c83c0854a82d9e56d",
            "_dom_classes": [],
            "description": "Downloading: 100%",
            "_model_name": "FloatProgressModel",
            "bar_style": "success",
            "max": 383,
            "_view_module": "@jupyter-widgets/controls",
            "_model_module_version": "1.5.0",
            "value": 383,
            "_view_count": null,
            "_view_module_version": "1.5.0",
            "orientation": "horizontal",
            "min": 0,
            "description_tooltip": null,
            "_model_module": "@jupyter-widgets/controls",
            "layout": "IPY_MODEL_39da7c562b88457c9659df4732595abc"
          },
          "model_module_version": "1.5.0"
        },
        "f07433d0ea264349aad9c3301affc198": {
          "model_module": "@jupyter-widgets/controls",
          "model_name": "HTMLModel",
          "state": {
            "_view_name": "HTMLView",
            "style": "IPY_MODEL_433c1757817044a1a901761a05f016e0",
            "_dom_classes": [],
            "description": "",
            "_model_name": "HTMLModel",
            "placeholder": "​",
            "_view_module": "@jupyter-widgets/controls",
            "_model_module_version": "1.5.0",
            "value": " 383/383 [00:01&lt;00:00, 199B/s]",
            "_view_count": null,
            "_view_module_version": "1.5.0",
            "description_tooltip": null,
            "_model_module": "@jupyter-widgets/controls",
            "layout": "IPY_MODEL_ecbc88850508442b9c2609dbc2fbd811"
          },
          "model_module_version": "1.5.0"
        },
        "864b8d2dfab7488c83c0854a82d9e56d": {
          "model_module": "@jupyter-widgets/controls",
          "model_name": "ProgressStyleModel",
          "state": {
            "_view_name": "StyleView",
            "_model_name": "ProgressStyleModel",
            "description_width": "initial",
            "_view_module": "@jupyter-widgets/base",
            "_model_module_version": "1.5.0",
            "_view_count": null,
            "_view_module_version": "1.2.0",
            "bar_color": null,
            "_model_module": "@jupyter-widgets/controls"
          },
          "model_module_version": "1.5.0"
        },
        "39da7c562b88457c9659df4732595abc": {
          "model_module": "@jupyter-widgets/base",
          "model_name": "LayoutModel",
          "state": {
            "_view_name": "LayoutView",
            "grid_template_rows": null,
            "right": null,
            "justify_content": null,
            "_view_module": "@jupyter-widgets/base",
            "overflow": null,
            "_model_module_version": "1.2.0",
            "_view_count": null,
            "flex_flow": null,
            "width": null,
            "min_width": null,
            "border": null,
            "align_items": null,
            "bottom": null,
            "_model_module": "@jupyter-widgets/base",
            "top": null,
            "grid_column": null,
            "overflow_y": null,
            "overflow_x": null,
            "grid_auto_flow": null,
            "grid_area": null,
            "grid_template_columns": null,
            "flex": null,
            "_model_name": "LayoutModel",
            "justify_items": null,
            "grid_row": null,
            "max_height": null,
            "align_content": null,
            "visibility": null,
            "align_self": null,
            "height": null,
            "min_height": null,
            "padding": null,
            "grid_auto_rows": null,
            "grid_gap": null,
            "max_width": null,
            "order": null,
            "_view_module_version": "1.2.0",
            "grid_template_areas": null,
            "object_position": null,
            "object_fit": null,
            "grid_auto_columns": null,
            "margin": null,
            "display": null,
            "left": null
          },
          "model_module_version": "1.2.0"
        },
        "433c1757817044a1a901761a05f016e0": {
          "model_module": "@jupyter-widgets/controls",
          "model_name": "DescriptionStyleModel",
          "state": {
            "_view_name": "StyleView",
            "_model_name": "DescriptionStyleModel",
            "description_width": "",
            "_view_module": "@jupyter-widgets/base",
            "_model_module_version": "1.5.0",
            "_view_count": null,
            "_view_module_version": "1.2.0",
            "_model_module": "@jupyter-widgets/controls"
          },
          "model_module_version": "1.5.0"
        },
        "ecbc88850508442b9c2609dbc2fbd811": {
          "model_module": "@jupyter-widgets/base",
          "model_name": "LayoutModel",
          "state": {
            "_view_name": "LayoutView",
            "grid_template_rows": null,
            "right": null,
            "justify_content": null,
            "_view_module": "@jupyter-widgets/base",
            "overflow": null,
            "_model_module_version": "1.2.0",
            "_view_count": null,
            "flex_flow": null,
            "width": null,
            "min_width": null,
            "border": null,
            "align_items": null,
            "bottom": null,
            "_model_module": "@jupyter-widgets/base",
            "top": null,
            "grid_column": null,
            "overflow_y": null,
            "overflow_x": null,
            "grid_auto_flow": null,
            "grid_area": null,
            "grid_template_columns": null,
            "flex": null,
            "_model_name": "LayoutModel",
            "justify_items": null,
            "grid_row": null,
            "max_height": null,
            "align_content": null,
            "visibility": null,
            "align_self": null,
            "height": null,
            "min_height": null,
            "padding": null,
            "grid_auto_rows": null,
            "grid_gap": null,
            "max_width": null,
            "order": null,
            "_view_module_version": "1.2.0",
            "grid_template_areas": null,
            "object_position": null,
            "object_fit": null,
            "grid_auto_columns": null,
            "margin": null,
            "display": null,
            "left": null
          },
          "model_module_version": "1.2.0"
        },
        "87a47182688d49e092744627ab8b7988": {
          "model_module": "@jupyter-widgets/controls",
          "model_name": "HBoxModel",
          "state": {
            "_view_name": "HBoxView",
            "_dom_classes": [],
            "_model_name": "HBoxModel",
            "_view_module": "@jupyter-widgets/controls",
            "_model_module_version": "1.5.0",
            "_view_count": null,
            "_view_module_version": "1.5.0",
            "box_style": "",
            "layout": "IPY_MODEL_c2479a7e7fa34cc99e9fdf298d8d1467",
            "_model_module": "@jupyter-widgets/controls",
            "children": [
              "IPY_MODEL_0005e17f138147d0bfa24f12fb4cc9d8",
              "IPY_MODEL_41ca31ffee16424bbbc9dd571a60b453"
            ]
          },
          "model_module_version": "1.5.0"
        },
        "c2479a7e7fa34cc99e9fdf298d8d1467": {
          "model_module": "@jupyter-widgets/base",
          "model_name": "LayoutModel",
          "state": {
            "_view_name": "LayoutView",
            "grid_template_rows": null,
            "right": null,
            "justify_content": null,
            "_view_module": "@jupyter-widgets/base",
            "overflow": null,
            "_model_module_version": "1.2.0",
            "_view_count": null,
            "flex_flow": null,
            "width": null,
            "min_width": null,
            "border": null,
            "align_items": null,
            "bottom": null,
            "_model_module": "@jupyter-widgets/base",
            "top": null,
            "grid_column": null,
            "overflow_y": null,
            "overflow_x": null,
            "grid_auto_flow": null,
            "grid_area": null,
            "grid_template_columns": null,
            "flex": null,
            "_model_name": "LayoutModel",
            "justify_items": null,
            "grid_row": null,
            "max_height": null,
            "align_content": null,
            "visibility": null,
            "align_self": null,
            "height": null,
            "min_height": null,
            "padding": null,
            "grid_auto_rows": null,
            "grid_gap": null,
            "max_width": null,
            "order": null,
            "_view_module_version": "1.2.0",
            "grid_template_areas": null,
            "object_position": null,
            "object_fit": null,
            "grid_auto_columns": null,
            "margin": null,
            "display": null,
            "left": null
          },
          "model_module_version": "1.2.0"
        },
        "0005e17f138147d0bfa24f12fb4cc9d8": {
          "model_module": "@jupyter-widgets/controls",
          "model_name": "FloatProgressModel",
          "state": {
            "_view_name": "ProgressView",
            "style": "IPY_MODEL_2a5284b20a0a4538a5d926c23d9f517e",
            "_dom_classes": [],
            "description": "Downloading: 100%",
            "_model_name": "FloatProgressModel",
            "bar_style": "success",
            "max": 231508,
            "_view_module": "@jupyter-widgets/controls",
            "_model_module_version": "1.5.0",
            "value": 231508,
            "_view_count": null,
            "_view_module_version": "1.5.0",
            "orientation": "horizontal",
            "min": 0,
            "description_tooltip": null,
            "_model_module": "@jupyter-widgets/controls",
            "layout": "IPY_MODEL_ce17743cf07f44d8968e928d5e4e9a6e"
          },
          "model_module_version": "1.5.0"
        },
        "41ca31ffee16424bbbc9dd571a60b453": {
          "model_module": "@jupyter-widgets/controls",
          "model_name": "HTMLModel",
          "state": {
            "_view_name": "HTMLView",
            "style": "IPY_MODEL_fcef6d15482844bfb82543a2615817f1",
            "_dom_classes": [],
            "description": "",
            "_model_name": "HTMLModel",
            "placeholder": "​",
            "_view_module": "@jupyter-widgets/controls",
            "_model_module_version": "1.5.0",
            "value": " 232k/232k [00:01&lt;00:00, 178kB/s]",
            "_view_count": null,
            "_view_module_version": "1.5.0",
            "description_tooltip": null,
            "_model_module": "@jupyter-widgets/controls",
            "layout": "IPY_MODEL_f2935dea774548cfaab920cceec3d5d4"
          },
          "model_module_version": "1.5.0"
        },
        "2a5284b20a0a4538a5d926c23d9f517e": {
          "model_module": "@jupyter-widgets/controls",
          "model_name": "ProgressStyleModel",
          "state": {
            "_view_name": "StyleView",
            "_model_name": "ProgressStyleModel",
            "description_width": "initial",
            "_view_module": "@jupyter-widgets/base",
            "_model_module_version": "1.5.0",
            "_view_count": null,
            "_view_module_version": "1.2.0",
            "bar_color": null,
            "_model_module": "@jupyter-widgets/controls"
          },
          "model_module_version": "1.5.0"
        },
        "ce17743cf07f44d8968e928d5e4e9a6e": {
          "model_module": "@jupyter-widgets/base",
          "model_name": "LayoutModel",
          "state": {
            "_view_name": "LayoutView",
            "grid_template_rows": null,
            "right": null,
            "justify_content": null,
            "_view_module": "@jupyter-widgets/base",
            "overflow": null,
            "_model_module_version": "1.2.0",
            "_view_count": null,
            "flex_flow": null,
            "width": null,
            "min_width": null,
            "border": null,
            "align_items": null,
            "bottom": null,
            "_model_module": "@jupyter-widgets/base",
            "top": null,
            "grid_column": null,
            "overflow_y": null,
            "overflow_x": null,
            "grid_auto_flow": null,
            "grid_area": null,
            "grid_template_columns": null,
            "flex": null,
            "_model_name": "LayoutModel",
            "justify_items": null,
            "grid_row": null,
            "max_height": null,
            "align_content": null,
            "visibility": null,
            "align_self": null,
            "height": null,
            "min_height": null,
            "padding": null,
            "grid_auto_rows": null,
            "grid_gap": null,
            "max_width": null,
            "order": null,
            "_view_module_version": "1.2.0",
            "grid_template_areas": null,
            "object_position": null,
            "object_fit": null,
            "grid_auto_columns": null,
            "margin": null,
            "display": null,
            "left": null
          },
          "model_module_version": "1.2.0"
        },
        "fcef6d15482844bfb82543a2615817f1": {
          "model_module": "@jupyter-widgets/controls",
          "model_name": "DescriptionStyleModel",
          "state": {
            "_view_name": "StyleView",
            "_model_name": "DescriptionStyleModel",
            "description_width": "",
            "_view_module": "@jupyter-widgets/base",
            "_model_module_version": "1.5.0",
            "_view_count": null,
            "_view_module_version": "1.2.0",
            "_model_module": "@jupyter-widgets/controls"
          },
          "model_module_version": "1.5.0"
        },
        "f2935dea774548cfaab920cceec3d5d4": {
          "model_module": "@jupyter-widgets/base",
          "model_name": "LayoutModel",
          "state": {
            "_view_name": "LayoutView",
            "grid_template_rows": null,
            "right": null,
            "justify_content": null,
            "_view_module": "@jupyter-widgets/base",
            "overflow": null,
            "_model_module_version": "1.2.0",
            "_view_count": null,
            "flex_flow": null,
            "width": null,
            "min_width": null,
            "border": null,
            "align_items": null,
            "bottom": null,
            "_model_module": "@jupyter-widgets/base",
            "top": null,
            "grid_column": null,
            "overflow_y": null,
            "overflow_x": null,
            "grid_auto_flow": null,
            "grid_area": null,
            "grid_template_columns": null,
            "flex": null,
            "_model_name": "LayoutModel",
            "justify_items": null,
            "grid_row": null,
            "max_height": null,
            "align_content": null,
            "visibility": null,
            "align_self": null,
            "height": null,
            "min_height": null,
            "padding": null,
            "grid_auto_rows": null,
            "grid_gap": null,
            "max_width": null,
            "order": null,
            "_view_module_version": "1.2.0",
            "grid_template_areas": null,
            "object_position": null,
            "object_fit": null,
            "grid_auto_columns": null,
            "margin": null,
            "display": null,
            "left": null
          },
          "model_module_version": "1.2.0"
        }
      }
    },
    "accelerator": "GPU"
  },
  "cells": [
    {
      "cell_type": "markdown",
      "metadata": {
        "id": "view-in-github",
        "colab_type": "text"
      },
      "source": [
        "<a href=\"https://colab.research.google.com/github/wzrd13/SpamBert/blob/main/spam.ipynb\" target=\"_parent\"><img src=\"https://colab.research.google.com/assets/colab-badge.svg\" alt=\"Open In Colab\"/></a>"
      ]
    },
    {
      "cell_type": "markdown",
      "metadata": {
        "id": "3pZUDqcGjuKi"
      },
      "source": [
        "# **Εξόρυξη Δεδομένων και Αλγόριθμοι Μάθησης**\n",
        "## Ερώτημα 2\n",
        "\n",
        "Βασίλειος Χαράλαμπος Αυγερινός ΑΜ: 1054298 \\\\\n",
        "Λούκας Πανδής ΑΜ: 1059683\n"
      ]
    },
    {
      "cell_type": "markdown",
      "metadata": {
        "id": "ZEbV2bC1k3Ge"
      },
      "source": [
        "Στο παρών ερώτημα για την κατηγοριοποίηση των email σε spam και not spam επιλέξαμε να κάνουμε fine tune ένα προ-εκπαιδευμένο language model και συγκεκριμένα το [Bert](https://en.wikipedia.org/wiki/BERT_(language_model)) small της google. Το συγκεκριμένο μοντέλο είναι ένα bidirectional transformer δίκτυο που στο πρώτο επίπεδο έχει προ-εκπαιδευμένα word embeddings όπως ζητάει η άσκηση. Στο τέλος του δικτύου προστέθηκε ένα linear output layer με διαστάσεις (512, 2) για τον διαχωρισμό της εισόδου σε spam και not spam. Για το fine tuning το δίκτυο εκπαιδευτικέ με batch size 32 για 4 epochs πετυχαίνοντας accuracy 99.14 %. Ο κώδικας υλοποιήθηκε σε pytorch με περιστασιακή χρήση τον βιβλιοθηκών numpy pandas και transformers. \n",
        "\n",
        "\n",
        "Για την αξιολόγηση του ερωτήματος προτείνετε ο κώδικας να ελεγχθεί στο google colab καθώς το κατέβασμα του μοντέλου σε σύνδεση με χαμηλό bandwidth μπορεί να πάρει λίγη ώρα (για να τρέξει ο κώδικας αρκεί να γίνει upload του dataset στο ακολουθώ path \"/content/spam_or_not_spam.csv\")\n",
        "\n",
        "**Σημειώνετε** ότι το μοντέλο δεν περιέχετε στα παραδοτέα λόγο του μεγάλου μεγέθους του. \n"
      ]
    },
    {
      "cell_type": "markdown",
      "metadata": {
        "id": "7ce7PyZTwNwu"
      },
      "source": [
        "### Εξαρτήσεις κώδικα"
      ]
    },
    {
      "cell_type": "code",
      "metadata": {
        "id": "z1dxxRDX-SMC"
      },
      "source": [
        "# Dependencies\n",
        "!pip install tqdm boto3 requests regex sentencepiece sacremoses\n",
        "!pip install transformers\n",
        "!pip install pandas torch numpy"
      ],
      "execution_count": null,
      "outputs": []
    },
    {
      "cell_type": "code",
      "metadata": {
        "id": "f6Vsc9YN957f"
      },
      "source": [
        "# Imports\n",
        "import pandas as pd\n",
        "import numpy as np\n",
        "import torch\n",
        "import torch.nn as nn\n",
        "from torch.utils.data import TensorDataset, DataLoader\n",
        "from torch.utils.data import RandomSampler, SequentialSampler\n",
        "from transformers import AutoTokenizer, AutoModel, BertForSequenceClassification\n",
        "from transformers import AdamW, BertConfig\n",
        "from transformers import get_linear_schedule_with_warmup"
      ],
      "execution_count": null,
      "outputs": []
    },
    {
      "cell_type": "code",
      "metadata": {
        "id": "5PYQG_G9xJyz",
        "colab": {
          "base_uri": "https://localhost:8080/"
        },
        "outputId": "593fba97-6a0b-4fe1-dbf4-633b92223418"
      },
      "source": [
        "# from google.colab import drive\n",
        "# drive.mount('/content/drive')"
      ],
      "execution_count": null,
      "outputs": [
        {
          "output_type": "stream",
          "text": [
            "Mounted at /content/drive\n"
          ],
          "name": "stdout"
        }
      ]
    },
    {
      "cell_type": "code",
      "metadata": {
        "id": "TDQuYEZE957h",
        "colab": {
          "base_uri": "https://localhost:8080/"
        },
        "outputId": "579e4670-60d0-452c-895c-998446ee7745"
      },
      "source": [
        "# Check for gpu\n",
        "device = torch.device(\"cpu\")\n",
        "if torch.cuda.is_available():     \n",
        "    device = torch.device(\"cuda\")\n",
        "    print(device)  "
      ],
      "execution_count": null,
      "outputs": [
        {
          "output_type": "stream",
          "text": [
            "cuda\n"
          ],
          "name": "stdout"
        }
      ]
    },
    {
      "cell_type": "markdown",
      "metadata": {
        "id": "x9YLLYpJv-BX"
      },
      "source": [
        "### Επεξεργασία των δεδομένων"
      ]
    },
    {
      "cell_type": "code",
      "metadata": {
        "id": "VCQGla7b957j"
      },
      "source": [
        "# Load spam dataset from memory\n",
        "spam_dt = pd.read_csv('/content/spam_or_not_spam.csv', sep=\",\")\n",
        "\n",
        "# Drop rows with Nan values\n",
        "spam_dt.dropna(inplace=True)\n",
        "\n",
        "# Display some information about the dataset\n",
        "print(f\"number of samples: {len(spam_dt)}\")\n",
        "print(f\"max sample size: {spam_dt.email.str.count(' ').max()}\")\n",
        "print(f\"min sample size: {spam_dt.email.str.count(' ').min()}\")\n",
        "print(f\"average sample size: {spam_dt.email.str.count(' ').mean()}\")\n",
        "\n",
        "# The maximum input size of pretrained transformer models is usually 512 tokens \n",
        "cond = spam_dt.email.str.count(' ') > 512\n",
        "print(f\"number of samples with size > 512: {spam_dt.email[cond].count()}\")"
      ],
      "execution_count": null,
      "outputs": []
    },
    {
      "cell_type": "markdown",
      "metadata": {
        "id": "mGpH3aNZwujT"
      },
      "source": [
        "Λόγο του ότι το Bert έχει μέγιστη είσοδο 512 χαρακτήρες έγινε αφαίρεση των email που ξεπερνάνε αυτό το όριο από το dataset (συνολικά 91 emails από τα 1500."
      ]
    },
    {
      "cell_type": "code",
      "metadata": {
        "colab": {
          "base_uri": "https://localhost:8080/"
        },
        "id": "WZOmGosR957k",
        "outputId": "e5744505-6b14-44f1-d4ab-b54578f2cf1f"
      },
      "source": [
        "# Remove samples with more than 512 words\n",
        "cond = spam_dt.email.str.count(' ') + 1 > 512\n",
        "spam_dt = spam_dt[~cond]\n",
        "print(f\"number of samples after removal: {len(spam_dt)}\")"
      ],
      "execution_count": null,
      "outputs": [
        {
          "output_type": "stream",
          "text": [
            "number of samples after removal: 1407\n"
          ],
          "name": "stdout"
        }
      ]
    },
    {
      "cell_type": "code",
      "metadata": {
        "id": "aKz0Zrm6957k",
        "colab": {
          "base_uri": "https://localhost:8080/",
          "height": 114,
          "referenced_widgets": [
            "c70067f5310c4d7a902e565bd576d3ac",
            "d3bdd7d179514858ac2b143e8c0740cc",
            "50dbb55f350340fb9a5db39d1cb31b83",
            "f07433d0ea264349aad9c3301affc198",
            "864b8d2dfab7488c83c0854a82d9e56d",
            "39da7c562b88457c9659df4732595abc",
            "433c1757817044a1a901761a05f016e0",
            "ecbc88850508442b9c2609dbc2fbd811",
            "87a47182688d49e092744627ab8b7988",
            "c2479a7e7fa34cc99e9fdf298d8d1467",
            "0005e17f138147d0bfa24f12fb4cc9d8",
            "41ca31ffee16424bbbc9dd571a60b453",
            "2a5284b20a0a4538a5d926c23d9f517e",
            "ce17743cf07f44d8968e928d5e4e9a6e",
            "fcef6d15482844bfb82543a2615817f1",
            "f2935dea774548cfaab920cceec3d5d4"
          ]
        },
        "outputId": "fcf8c61c-aad4-4b1c-b070-e8c4f8c2cda2"
      },
      "source": [
        "# Download/load bert tokenizer\n",
        "tokenizer = AutoTokenizer.from_pretrained(\"google/bert_uncased_L-4_H-512_A-8\", do_lower_case=True)"
      ],
      "execution_count": null,
      "outputs": [
        {
          "output_type": "display_data",
          "data": {
            "application/vnd.jupyter.widget-view+json": {
              "model_id": "c70067f5310c4d7a902e565bd576d3ac",
              "version_minor": 0,
              "version_major": 2
            },
            "text/plain": [
              "HBox(children=(FloatProgress(value=0.0, description='Downloading', max=383.0, style=ProgressStyle(description_…"
            ]
          },
          "metadata": {
            "tags": []
          }
        },
        {
          "output_type": "stream",
          "text": [
            "\n"
          ],
          "name": "stdout"
        },
        {
          "output_type": "display_data",
          "data": {
            "application/vnd.jupyter.widget-view+json": {
              "model_id": "87a47182688d49e092744627ab8b7988",
              "version_minor": 0,
              "version_major": 2
            },
            "text/plain": [
              "HBox(children=(FloatProgress(value=0.0, description='Downloading', max=231508.0, style=ProgressStyle(descripti…"
            ]
          },
          "metadata": {
            "tags": []
          }
        },
        {
          "output_type": "stream",
          "text": [
            "\n"
          ],
          "name": "stdout"
        }
      ]
    },
    {
      "cell_type": "markdown",
      "metadata": {
        "id": "HQPX9xU_yDTL"
      },
      "source": [
        "#### Tokenization"
      ]
    },
    {
      "cell_type": "code",
      "metadata": {
        "id": "YYld15BC957k"
      },
      "source": [
        "tokenized_emails = []\n",
        "attention_masks = []\n",
        "\n",
        "for email in spam_dt.email.values:\n",
        "    \n",
        "    encoded_dict = tokenizer.encode_plus(\n",
        "                        email,\n",
        "                        truncation=True,\n",
        "                        add_special_tokens = True, \n",
        "                        max_length = 512,          \n",
        "                        padding='max_length',\n",
        "                        return_attention_mask = True,\n",
        "                        return_tensors = 'pt',     \n",
        "                    )\n",
        "    \n",
        "    # Add the encoded sentence to the list.    \n",
        "    tokenized_emails.append(encoded_dict['input_ids'])\n",
        "    \n",
        "    # And its attention mask (simply differentiates padding from non-padding).\n",
        "    attention_masks.append(encoded_dict['attention_mask'])"
      ],
      "execution_count": null,
      "outputs": []
    },
    {
      "cell_type": "markdown",
      "metadata": {
        "id": "hmlI9BfGyiHw"
      },
      "source": [
        "#### Διαχωρισμός του dataset σε train test (75-25)"
      ]
    },
    {
      "cell_type": "code",
      "metadata": {
        "colab": {
          "base_uri": "https://localhost:8080/"
        },
        "id": "f1PLuIkh957l",
        "outputId": "062dfbd4-036d-4af9-bab8-508a8d0a26f3"
      },
      "source": [
        "# Create a 75-25 train-validation split.\n",
        "from sklearn.model_selection import train_test_split\n",
        "labels = spam_dt.label.values\n",
        "\n",
        "# Split dataset with sk learn\n",
        "X_train_ids, X_test_ids,\\\n",
        "X_train_masks, X_test_masks,\\\n",
        "y_train, y_test = train_test_split(\n",
        "                        tokenized_emails, \n",
        "                        attention_masks, \n",
        "                        labels, \n",
        "                        test_size=0.25, \n",
        "                        random_state=42\n",
        "                    )\n",
        "\n",
        "# Create Pytorch datasets for train and test\n",
        "train_dt = TensorDataset(\n",
        "    torch.cat(X_train_ids), \n",
        "    torch.cat(X_train_masks), \n",
        "    torch.tensor(y_train)\n",
        ")\n",
        "\n",
        "test_dt = TensorDataset(\n",
        "    torch.cat(X_test_ids), \n",
        "    torch.cat(X_test_masks), \n",
        "    torch.tensor(y_test)\n",
        ")\n",
        "\n",
        "print(f'training samples: {len(train_dt)}')\n",
        "print(f'validation samples: {len(test_dt)}')"
      ],
      "execution_count": null,
      "outputs": [
        {
          "output_type": "stream",
          "text": [
            "training samples: 1055\n",
            "validation samples: 352\n"
          ],
          "name": "stdout"
        }
      ]
    },
    {
      "cell_type": "code",
      "metadata": {
        "id": "v3FggJKH957m"
      },
      "source": [
        "# Create DataLoaders\n",
        "batch_size = 32\n",
        "\n",
        "# Train select batches randomly\n",
        "train_dl = DataLoader(\n",
        "            train_dt,\n",
        "            sampler = RandomSampler(train_dt),\n",
        "            batch_size = batch_size\n",
        "        )\n",
        "\n",
        "# Test pull out batches sequentially.\n",
        "validation_dl = DataLoader(\n",
        "            test_dt,\n",
        "            sampler = SequentialSampler(test_dt),\n",
        "            batch_size = batch_size\n",
        "        )"
      ],
      "execution_count": null,
      "outputs": []
    },
    {
      "cell_type": "markdown",
      "metadata": {
        "id": "-iA02RC0yylM"
      },
      "source": [
        "### Αρχικοποίηση του μοντέλου και του optimizer"
      ]
    },
    {
      "cell_type": "code",
      "metadata": {
        "id": "S-Lu4Hjx957m"
      },
      "source": [
        "# Load pretrained bert-base-uncased with a linear layer for classification on top\n",
        "model = BertForSequenceClassification.from_pretrained(\n",
        "    \"google/bert_uncased_L-4_H-512_A-8\",\n",
        "    num_labels = 2, # Number of labels (spam->0, not_spam->1)\n",
        "    output_attentions = True,\n",
        "    output_hidden_states = False,\n",
        ")\n",
        "\n",
        "# Run model to device\n",
        "model.to(device);"
      ],
      "execution_count": null,
      "outputs": []
    },
    {
      "cell_type": "code",
      "metadata": {
        "id": "KE1HBzIL957n"
      },
      "source": [
        "# Recomended configuration of Optimizer and Learning Rate Scheduler for fine-tuning the bert model\n",
        "optimizer = AdamW(model.parameters(),\n",
        "                  lr = 5e-5, # args.learning_rate - default is 5e-5, our notebook had 2e-5\n",
        "                  eps = 1e-8 # args.adam_epsilon  - default is 1e-8.\n",
        "                )\n",
        "\n",
        "# 1 to 2 epochs should be enough\n",
        "epochs = 4\n",
        "\n",
        "# Total number of training steps is [number of batches] x [number of epochs]. \n",
        "total_steps = len(train_dl) * epochs\n",
        "\n",
        "# Create the learning rate scheduler.\n",
        "scheduler = get_linear_schedule_with_warmup(optimizer, \n",
        "                                            num_warmup_steps = 0,\n",
        "                                            num_training_steps = total_steps)"
      ],
      "execution_count": null,
      "outputs": []
    },
    {
      "cell_type": "markdown",
      "metadata": {
        "id": "zYmqtOYHzPa6"
      },
      "source": [
        "### Εκπαίδευση του δικτύου"
      ]
    },
    {
      "cell_type": "code",
      "metadata": {
        "id": "SdVmoRsm957n"
      },
      "source": [
        "def accuracy(preds, labels):\n",
        "    '''\n",
        "    Takes predictions and labels and returns accuracy (max 1)\n",
        "    '''\n",
        "    prediction = np.argmax(preds, axis=1).flatten()\n",
        "    labels = labels.flatten()\n",
        "    return np.sum(prediction == labels) / len(labels)"
      ],
      "execution_count": null,
      "outputs": []
    },
    {
      "cell_type": "markdown",
      "metadata": {
        "id": "Hdh32TRjzk9W"
      },
      "source": [
        "#### Training loop"
      ]
    },
    {
      "cell_type": "code",
      "metadata": {
        "id": "lT-vJV4X957o"
      },
      "source": [
        "import random\n",
        "import numpy as np\n",
        "from tqdm.notebook import trange, tqdm\n",
        "\n",
        "seed_val = 42\n",
        "random.seed(seed_val)\n",
        "np.random.seed(seed_val)\n",
        "torch.manual_seed(seed_val)\n",
        "torch.cuda.manual_seed_all(seed_val)\n",
        "\n",
        "# Stats for training and validating\n",
        "training_stats = []\n",
        "\n",
        "# For each epoch...\n",
        "for epoch_i in range(0, epochs):\n",
        "    \n",
        "    # ########################################\n",
        "    #               Training\n",
        "    # ########################################\n",
        "\n",
        "    print(\"\")\n",
        "    print('======== Epoch {:} / {:} ========'.format(epoch_i + 1, epochs))\n",
        "    print('Training...')\n",
        "\n",
        "    # Reset the total loss for this epoch.\n",
        "    total_train_loss = 0\n",
        "\n",
        "    model.train()\n",
        "\n",
        "    # For each batch of training data...\n",
        "    for step, batch in tqdm(enumerate(train_dl), total=len(train_dl)):\n",
        "\n",
        "        # Load tensors to device\n",
        "        input_ids = batch[0].to(device)\n",
        "        input_mask = batch[1].to(device)\n",
        "        labels = batch[2].to(device)\n",
        "\n",
        "        model.zero_grad()        \n",
        "        \n",
        "        # Forward pass\n",
        "        sc_output = model(input_ids, \n",
        "                             token_type_ids=None, \n",
        "                             attention_mask=input_mask, \n",
        "                             labels=labels)\n",
        "        \n",
        "        loss = sc_output['loss']\n",
        "        logits = sc_output['logits']\n",
        "\n",
        "        # Accumulate loss\n",
        "        total_train_loss += loss.item()\n",
        "\n",
        "        # Backward pass\n",
        "        loss.backward()\n",
        "\n",
        "        # Clip the norm of the gradients to 1.0.\n",
        "        # This is to help prevent the \"exploding gradients\" problem.\n",
        "        torch.nn.utils.clip_grad_norm_(model.parameters(), 1.0)\n",
        "\n",
        "        # Update parameters\n",
        "        optimizer.step()\n",
        "\n",
        "        # Update learning rate\n",
        "        scheduler.step()\n",
        "\n",
        "    # Calculate the average loss over all of the batches.\n",
        "    avg_train_loss = total_train_loss / len(train_dl)            \n",
        "\n",
        "    print(\"\")\n",
        "    print(f\"  Average training loss: {avg_train_loss}\")\n",
        "        \n",
        "    # ########################################\n",
        "    #               Validation\n",
        "    # ########################################\n",
        "\n",
        "    print(\"\")\n",
        "    print(\"Running Validation...\")\n",
        "\n",
        "    model.eval()\n",
        "\n",
        "    # Tracking variables \n",
        "    total_eval_accuracy = 0\n",
        "    total_eval_loss = 0\n",
        "    nb_eval_steps = 0\n",
        "\n",
        "    # Evaluate data for one epoch\n",
        "    for batch in tqdm(validation_dl):\n",
        "        \n",
        "        # Load tensors to device\n",
        "        input_ids = batch[0].to(device)\n",
        "        input_mask = batch[1].to(device)\n",
        "        labels = batch[2].to(device)\n",
        "        \n",
        "        with torch.no_grad():        \n",
        "            \n",
        "            sc_output = model(input_ids, \n",
        "                                   token_type_ids=None, \n",
        "                                   attention_mask=input_mask,\n",
        "                                   labels=labels)\n",
        "\n",
        "            loss = sc_output['loss']\n",
        "            logits = sc_output['logits']\n",
        "            \n",
        "        # Accumulate the validation loss.\n",
        "        total_eval_loss += loss.item()\n",
        "\n",
        "        # Move logits and labels to CPU\n",
        "        logits = logits.detach().cpu().numpy()\n",
        "        c_label_ids = labels.to('cpu').numpy()\n",
        "\n",
        "        # Calculate accuracy\n",
        "        total_eval_accuracy += accuracy(logits, c_label_ids)\n",
        "        \n",
        "\n",
        "    # Report the final accuracy for this validation run.\n",
        "    avg_val_accuracy = total_eval_accuracy / len(validation_dl)\n",
        "    print(f\"  Accuracy: {avg_val_accuracy}\")\n",
        "\n",
        "    # Calculate the average loss over all of the batches.\n",
        "    avg_val_loss = total_eval_loss / len(validation_dl)\n",
        "    \n",
        "    print(f\"  Validation Loss: {avg_val_loss}\")\n",
        "    print(f\"  Validation took: {validation_time}\")\n",
        "\n",
        "    # Save stats for the epoch\n",
        "    training_stats.append(\n",
        "        {\n",
        "            'epoch': epoch_i + 1,\n",
        "            'Training Loss': avg_train_loss,\n",
        "            'Valid. Loss': avg_val_loss,\n",
        "            'Valid. Accur.': avg_val_accuracy,\n",
        "            'Training Time': training_time,\n",
        "            'Validation Time': validation_time\n",
        "        }\n",
        "    )\n",
        "\n",
        "print(\"\")\n",
        "print(\"Training complete!\")\n",
        "\n",
        "PATH = f\"/content/spam_clasification_bert_epochs-{epochs}\"\n",
        "torch.save(model.state_dict(), PATH)"
      ],
      "execution_count": null,
      "outputs": []
    },
    {
      "cell_type": "markdown",
      "metadata": {
        "id": "NH9IXq9tDboB"
      },
      "source": [
        "#### f1-score, precision, recall"
      ]
    },
    {
      "cell_type": "code",
      "metadata": {
        "id": "MiMUpUyD2INE"
      },
      "source": [
        "    # ########################################\n",
        "    #               f1-score\n",
        "    # ########################################\n",
        "\n",
        "from sklearn.metrics import classification_report, accuracy_score\n",
        "# score(y_true, y_pred)\n",
        "\n",
        "# Load trained model\n",
        "model = BertForSequenceClassification.from_pretrained(\n",
        "    \"google/bert_uncased_L-4_H-512_A-8\",\n",
        "    num_labels = 2, # Number of labels (spam->0, not_spam->1)\n",
        "    output_attentions = True,\n",
        "    output_hidden_states = False,\n",
        ")\n",
        "\n",
        "\n",
        "PATH = f\"/content/spam_clasification_bert_epochs-4\"\n",
        "model.load_state_dict(torch.load(PATH, map_location=torch.device(device)))\n",
        "model.to(device)\n",
        "model.eval();\n",
        "\n",
        "predictions = []\n",
        "labels_p = []\n",
        "\n",
        "for batch in validation_dl:\n",
        "       \n",
        "    # Load tensors to device\n",
        "    input_ids = batch[0].to(device)\n",
        "    input_mask = batch[1].to(device)\n",
        "    labels = batch[2].to(device)\n",
        "\n",
        "    labels_p.append(labels)\n",
        "\n",
        "    with torch.no_grad():        \n",
        "        \n",
        "        sc_output = model(input_ids, \n",
        "                                token_type_ids=None, \n",
        "                                attention_mask=input_mask,\n",
        "                                labels=labels)\n",
        "\n",
        "        predictions.append(sc_output['logits'])\n",
        "\n",
        "predictions = torch.cat(predictions)\n",
        "predictions = np.argmax(predictions.to('cpu'), axis=1).flatten()\n",
        "labels = torch.cat(labels_p).flatten().to('cpu')\n",
        "\n",
        "# print(score(predictions, labels))"
      ],
      "execution_count": null,
      "outputs": []
    },
    {
      "cell_type": "code",
      "metadata": {
        "colab": {
          "base_uri": "https://localhost:8080/"
        },
        "id": "baHML5F78rli",
        "outputId": "ec7a7a3f-c118-48f6-979f-569ff1afe37d"
      },
      "source": [
        "print(classification_report(labels,predictions))\n",
        "print(accuracy_score(labels, predictions))"
      ],
      "execution_count": null,
      "outputs": [
        {
          "output_type": "stream",
          "text": [
            "              precision    recall  f1-score   support\n",
            "\n",
            "           0       0.99      1.00      0.99       233\n",
            "           1       0.99      0.98      0.99       119\n",
            "\n",
            "    accuracy                           0.99       352\n",
            "   macro avg       0.99      0.99      0.99       352\n",
            "weighted avg       0.99      0.99      0.99       352\n",
            "\n",
            "0.9914772727272727\n"
          ],
          "name": "stdout"
        }
      ]
    },
    {
      "cell_type": "markdown",
      "metadata": {
        "id": "A2_bZ5Vzzslw"
      },
      "source": [
        "### Οπτικοποίηση των attention layers"
      ]
    },
    {
      "cell_type": "markdown",
      "metadata": {
        "id": "p-d17zeg0JlJ"
      },
      "source": [
        "Για την οπτικοποίηση των attention layers απαιτητέ επιπλέων η εγκατάσταση των παρακάτω πακέτων."
      ]
    },
    {
      "cell_type": "code",
      "metadata": {
        "id": "tFJVQjmA0Bqh"
      },
      "source": [
        "!pip install seaborn\n",
        "!pip isntall matplotlib"
      ],
      "execution_count": null,
      "outputs": []
    },
    {
      "cell_type": "code",
      "metadata": {
        "id": "-7OogVoP0g9W"
      },
      "source": [
        "import seaborn as sns; sns.set_theme()\n",
        "import io\n",
        "import matplotlib.pyplot as plt\n",
        "import seaborn as sns; sns.set()"
      ],
      "execution_count": null,
      "outputs": []
    },
    {
      "cell_type": "code",
      "metadata": {
        "id": "pY_D_-MsYWni"
      },
      "source": [
        "def get_attentions(attentions, layer=0, attention_head=0, avg=False):\n",
        "  '''\n",
        "  get the particular output for a particular layer and attention head\n",
        "  layer -> 0 to 7\n",
        "  attention_head -> 0 to 3\n",
        "  '''\n",
        "  if avg:\n",
        "    #avg over all attention heads in a layer\n",
        "    return attentions[layer].squeeze(0).mean(dim=0)\n",
        "\n",
        "  #return values for a particular attention head inside a specific layer\n",
        "  return attentions[layer].squeeze(0)[attention_head]\n",
        "\n",
        "def plt_attentions(mat, labs, fig_size=(10,10)):\n",
        "  fig, ax = plt.subplots(figsize=fig_size) \n",
        "  ax = sns.heatmap(\n",
        "      mat.detach().cpu().numpy(), \n",
        "      annot=False, \n",
        "      yticklabels=labs,\n",
        "      xticklabels=labs, \n",
        "      cmap=sns.light_palette(\"blue\")\n",
        "  )\n",
        "  ax.xaxis.set_ticks_position('top')\n",
        "  ax.set_xticklabels(ax.get_xticklabels(), rotation=45)\n",
        "  if title:\n",
        "    ax.set_title(title)"
      ],
      "execution_count": null,
      "outputs": []
    },
    {
      "cell_type": "code",
      "metadata": {
        "id": "la_NyRIk1tOV"
      },
      "source": [
        "# ########################################\n",
        "#               visualization\n",
        "# ########################################\n",
        "\n",
        "# Load trained model\n",
        "model = BertForSequenceClassification.from_pretrained(\n",
        "    \"google/bert_uncased_L-4_H-512_A-8\",\n",
        "    num_labels = 2, # Number of labels (spam->0, not_spam->1)\n",
        "    output_attentions = True,\n",
        "    output_hidden_states = False,\n",
        ")\n",
        "\n",
        "PATH = f\"/content/spam_clasification_bert_epochs-4\"\n",
        "model.load_state_dict(torch.load(PATH))\n",
        "model.to(device)\n",
        "model.eval();"
      ],
      "execution_count": null,
      "outputs": []
    },
    {
      "cell_type": "code",
      "metadata": {
        "colab": {
          "base_uri": "https://localhost:8080/",
          "height": 646
        },
        "id": "gaKxfQ9kOJnl",
        "outputId": "c2886559-9df7-45da-b667-738fadad672a"
      },
      "source": [
        "# Load an email to feed to the network\n",
        "email = spam_dt.email[1][:200]\n",
        "\n",
        "# Encode email without pading\n",
        "encoded_email = tokenizer.encode_plus(\n",
        "    email,\n",
        "    truncation=True,\n",
        "    add_special_tokens = True, \n",
        "    max_length = 512,          \n",
        "    return_attention_mask = True,\n",
        "    return_tensors = 'pt',     \n",
        ")\n",
        "\n",
        "# Pass email to the model\n",
        "model.eval()\n",
        "sc_output = model(\n",
        "    encoded_email['input_ids'].to(device)\n",
        ")\n",
        "\n",
        "print(f\"label = {np.argmax(sc_output['logits'].detach().cpu())}\")\n",
        "\n",
        "tokens = tokenizer.convert_ids_to_tokens(encoded_email['input_ids'][0])\n",
        "attention = sc_output['attentions']\n",
        "\n",
        "# Plot attentions for specified layer and attention head\n",
        "plt_attentions(get_attentions(attention, layer=0, attention_head=1), tokens)"
      ],
      "execution_count": null,
      "outputs": [
        {
          "output_type": "stream",
          "text": [
            "label = 0\n"
          ],
          "name": "stdout"
        },
        {
          "output_type": "display_data",
          "data": {
            "image/png": "[encoded data removed]",
            "text/plain": [
              "<Figure size 720x720 with 2 Axes>"
            ]
          },
          "metadata": {
            "tags": []
          }
        }
      ]
    }
  ]
}